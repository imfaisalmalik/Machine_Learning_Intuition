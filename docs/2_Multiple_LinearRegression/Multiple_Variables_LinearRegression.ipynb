{
 "cells": [
  {
   "cell_type": "markdown",
   "metadata": {},
   "source": [
    "# Multiple Variable Linear Regression"
   ]
  },
  {
   "cell_type": "markdown",
   "metadata": {},
   "source": [
    "### 1. Vectorization\n",
    "- To implement Multi Linear Regression, we use vectorization technique which makes the code shorter and faster.\n",
    "- In vectorization technique, we can represent all features with a single vector quantity instead of denoting each feature with a single variable.\n",
    "- Thus, appearently,  it looks like a single variable function but under the hood, all features are processed easily with fast and shorter code. "
   ]
  },
  {
   "cell_type": "code",
   "execution_count": 1,
   "metadata": {},
   "outputs": [],
   "source": [
    "# In pyhton, we use Numpy Library to create vectors and performing different Vectors' operations.\n",
    "import numpy as np"
   ]
  },
  {
   "cell_type": "markdown",
   "metadata": {},
   "source": [
    "#### i) Numpy Vector Operations"
   ]
  },
  {
   "cell_type": "code",
   "execution_count": 2,
   "metadata": {},
   "outputs": [
    {
     "name": "stdout",
     "output_type": "stream",
     "text": [
      "a: [0. 0. 0. 0.]; \n",
      "shape: (4,), dtype: float64; dimension: 1\n",
      "a: [[0 0 0 0 0]\n",
      " [0 0 0 0 0]\n",
      " [0 0 0 0 0]\n",
      " [0 0 0 0 0]]; \n",
      "shape: (4, 5), dtype: int64; dimension: 2\n"
     ]
    }
   ],
   "source": [
    "a = np.zeros((4,))\n",
    "print(f\"a: {a}; \\nshape: {a.shape}, dtype: {a.dtype}; dimension: {a.ndim}\")\n",
    "\n",
    "a = np.zeros((4,5), dtype=int)\n",
    "a = np.zeros((4,5), dtype='int64')\n",
    "print(f\"a: {a}; \\nshape: {a.shape}, dtype: {a.dtype}; dimension: {a.ndim}\")\n"
   ]
  },
  {
   "cell_type": "code",
   "execution_count": 3,
   "metadata": {},
   "outputs": [
    {
     "name": "stdout",
     "output_type": "stream",
     "text": [
      "a: [[0 1]\n",
      " [2 3]]; \n",
      "shape: (2, 2), dtype: int32; dimension: 2\n",
      "b: [[1. 1.]\n",
      " [1. 1.]]; \n",
      "shape: (2, 2), dtype: float64; dimension: 2\n",
      "\n",
      "***** Element-wise Operations *****\n",
      "Addition a+b: [[1. 2.]\n",
      " [3. 4.]]\n",
      "\n",
      "Scalar Multiplication b*2: [[2. 2.]\n",
      " [2. 2.]]; \n",
      "shape: (2, 2), dtype: float64; dimension: 2\n",
      "new_b: [[3. 2.]\n",
      " [4. 2.]]\n",
      "Multiplication c = a*b: [[0. 2.]\n",
      " [8. 6.]]\n",
      "\n",
      "Slicing c[:,0]: [0. 8.]\n"
     ]
    }
   ],
   "source": [
    "# Numpy Operations\n",
    "# create 2 vectors\n",
    "\n",
    "a = np.arange(4)\n",
    "a = a.reshape((2,-1)) # -1 means set the shape of 2nd dmesntion as per feasibilty.\n",
    "print(f\"a: {a}; \\nshape: {a.shape}, dtype: {a.dtype}; dimension: {a.ndim}\")\n",
    "\n",
    "b = np.ones((2,2))\n",
    "print(f\"b: {b}; \\nshape: {b.shape}, dtype: {b.dtype}; dimension: {b.ndim}\")\n",
    "\n",
    "print(\"\\n***** Element-wise Operations *****\")\n",
    "\n",
    "print(f\"Addition a+b: {a+b}\")\n",
    "b = b*2  # Multiplied vector b with sacalar (2)\n",
    "print(f\"\\nScalar Multiplication b*2: {b}; \\nshape: {b.shape}, dtype: {b.dtype}; dimension: {b.ndim}\")\n",
    "\n",
    "b[0][0] = 3; b[1][0] = 4\n",
    "print(f\"new_b: {b}\")\n",
    "c = a*b\n",
    "print(f\"Multiplication c = a*b: {c}\")\n",
    "\n",
    "print(f\"\\nSlicing c[:,0]: {c[:,0]}\")\n"
   ]
  },
  {
   "cell_type": "code",
   "execution_count": 4,
   "metadata": {},
   "outputs": [
    {
     "name": "stdout",
     "output_type": "stream",
     "text": [
      "Dot Product c = a.b: [[ 4.  2.]\n",
      " [18. 10.]]; \n",
      "shape: (2, 2), dtype: float64; dimension: 2\n"
     ]
    }
   ],
   "source": [
    "# Dot Product (2D)\n",
    "c = np.dot(a,b)\n",
    "print(f\"Dot Product c = a.b: {c}; \\nshape: {c.shape}, dtype: {c.dtype}; dimension: {c.ndim}\")"
   ]
  },
  {
   "cell_type": "markdown",
   "metadata": {},
   "source": [
    "#### ii) Dot Product using Custom Function\n",
    "\n",
    "Let's implement our own version of the dot product:\n",
    "\n",
    "**Using a for loop**, implement a function which returns the dot product of two vectors. The function to return given inputs $a$ and $b$:\n",
    "$$ x = \\sum_{i=0}^{n-1} a_i b_i $$\n",
    "Assume both `a` and `b` are the same shape."
   ]
  },
  {
   "cell_type": "code",
   "execution_count": 5,
   "metadata": {},
   "outputs": [],
   "source": [
    "def my_dot_product(a,b):\n",
    "    dot_procut = np.array(0)\n",
    "    for i in range(len(a)):\n",
    "        dot_procut += a[i]*b[i]\n",
    "    return dot_procut\n"
   ]
  },
  {
   "cell_type": "code",
   "execution_count": 6,
   "metadata": {},
   "outputs": [
    {
     "name": "stdout",
     "output_type": "stream",
     "text": [
      "a:[1 2 3 4] \n",
      "b:[-1  4  3  2]\n",
      "NumPy 1-D c = a.b = 24, c.shape = () \n"
     ]
    }
   ],
   "source": [
    "# test 1-D\n",
    "a2 = np.array([1, 2, 3, 4])\n",
    "b2 = np.array([-1, 4, 3, 2])\n",
    "print(f\"a:{a2} \\nb:{b2}\")\n",
    "c = my_dot_product(a2, b2)\n",
    "print(f\"NumPy 1-D c = a.b = {c}, c.shape = {c.shape} \") "
   ]
  },
  {
   "cell_type": "markdown",
   "metadata": {},
   "source": [
    "#### iii) Dot Product using Numpy np.dot() Function"
   ]
  },
  {
   "cell_type": "code",
   "execution_count": 7,
   "metadata": {},
   "outputs": [
    {
     "name": "stdout",
     "output_type": "stream",
     "text": [
      "a:[1 2 3 4] \n",
      "b:[-1  4  3  2]\n",
      "NumPy 1-D np.dot(a, b) = 24, np.dot(a, b).shape = () \n",
      "NumPy 1-D np.dot(b, a) = 24, np.dot(a, b).shape = (), dtype: int32; dimension: 0\n"
     ]
    }
   ],
   "source": [
    "a2 = np.array([1, 2, 3, 4])\n",
    "b2 = np.array([-1, 4, 3, 2])\n",
    "print(f\"a:{a2} \\nb:{b2}\")\n",
    "c = np.dot(a2, b2)\n",
    "print(f\"NumPy 1-D np.dot(a, b) = {c}, np.dot(a, b).shape = {c.shape} \") \n",
    "c = np.dot(b2, a2)\n",
    "print(f\"NumPy 1-D np.dot(b, a) = {c}, np.dot(a, b).shape = {c.shape}, dtype: {c.dtype}; dimension: {c.ndim}\")"
   ]
  },
  {
   "cell_type": "markdown",
   "metadata": {},
   "source": [
    "### 2. Multiple Variable Linear Regression\n",
    "\n",
    "<a name=\"toc_15456_1.1\"></a>\n",
    "#### i) Goals\n",
    "\n",
    "- Extend our regression model  routines to support multiple features\n",
    "    - Extend data structures to support multiple features\n",
    "    - Rewrite prediction, cost and gradient routines to support multiple features\n",
    "    - Utilize NumPy `np.dot` to vectorize their implementations for speed and simplicity"
   ]
  },
  {
   "cell_type": "code",
   "execution_count": 8,
   "metadata": {},
   "outputs": [],
   "source": [
    "import math\n",
    "import numpy as np\n",
    "import matplotlib.pyplot as plt"
   ]
  },
  {
   "cell_type": "markdown",
   "metadata": {},
   "source": [
    "#### ii) Notations\n",
    "Here is a summary of some of the notations you will encounter, updated for multiple features.  \n",
    "\n",
    "|General <img width=70/> <br />  Notation  <img width=60/> | Description<img width=200/>| Python (if applicable) |\n",
    "|: ------------|: ------------------------------------------------------------||\n",
    "| $a$ | scalar, non bold                                                      ||\n",
    "| $\\mathbf{a}$ | vector, bold                                                 ||\n",
    "| $\\mathbf{A}$ | matrix, bold capital                                         ||\n",
    "| **Regression** |         |    |     |\n",
    "|  $\\mathbf{X}$ | training example matrix                  | `X_train` |   \n",
    "|  $\\mathbf{y}$  | training example  targets                | `y_train` \n",
    "|  $\\mathbf{x}^{(i)}$, $y^{(i)}$ | $i_{th}$Training Example | `X[i]`, `y[i]`|\n",
    "| m | number of training examples | `m`|\n",
    "| n | number of features in each example | `n`|\n",
    "|  $\\mathbf{w}$  |  parameter: weight,                       | `w`    |\n",
    "|  $b$           |  parameter: bias                                           | `b`    |     \n",
    "| $f_{\\mathbf{w},b}(\\mathbf{x}^{(i)})$ | The result of the model evaluation at $\\mathbf{x^{(i)}}$ parameterized by $\\mathbf{w},b$: $f_{\\mathbf{w},b}(\\mathbf{x}^{(i)}) = \\mathbf{w} \\cdot \\mathbf{x}^{(i)}+b$  | `f_wb` | \n"
   ]
  },
  {
   "cell_type": "markdown",
   "metadata": {},
   "source": [
    "<a name=\"toc_15456_2\"></a>\n",
    "#### iii) Problem Statement\n",
    "\n",
    "You will use the motivating example of housing price prediction. The training dataset contains three examples with four features (size, bedrooms, floors and, age) shown in the table below.  Note that, unlike the earlier labs, size is in sqft rather than 1000 sqft. This causes an issue, which you will solve in the next lab!\n",
    "\n",
    "| Size (sqft) | Number of Bedrooms  | Number of floors | Age of  Home | Price (1000s dollars)  |   \n",
    "| ----------------| ------------------- |----------------- |--------------|-------------- |  \n",
    "| 2104            | 5                   | 1                | 45           | 460           |  \n",
    "| 1416            | 3                   | 2                | 40           | 232           |  \n",
    "| 852             | 2                   | 1                | 35           | 178           |  \n",
    "\n",
    "You will build a linear regression model using these values so you can then predict the price for other houses. For example, a house with 1200 sqft, 3 bedrooms, 1 floor, 40 years old.  \n",
    "\n",
    "Please run the following code cell to create your `X_train` and `y_train` variables."
   ]
  },
  {
   "cell_type": "code",
   "execution_count": 9,
   "metadata": {},
   "outputs": [
    {
     "name": "stdout",
     "output_type": "stream",
     "text": [
      "x_train: [[2104    5    1   45]\n",
      " [1416    3    2   40]\n",
      " [ 852    2    1   35]]; \n",
      "shape: (3, 4), dtype: int32; dimension: 2\n",
      "y_train: [460 232 178]; \n",
      "shape: (3,), dtype: int32; dimension: 1\n"
     ]
    }
   ],
   "source": [
    "x_train = np.array([\n",
    "    [2104, 5, 1, 45],\n",
    "    [1416, 3, 2, 40],\n",
    "    [852, 2, 1, 35]\n",
    "])\n",
    "\n",
    "# OR Declare x_train as:\n",
    "X_train = np.array([[2104, 5, 1, 45], [1416, 3, 2, 40], [852, 2, 1, 35]])\n",
    "y_train = np.array([460, 232, 178])\n",
    "\n",
    "print(f\"x_train: {x_train}; \\nshape: {x_train.shape}, dtype: {x_train.dtype}; dimension: {x_train.ndim}\")\n",
    "print(f\"y_train: {y_train}; \\nshape: {y_train.shape}, dtype: {y_train.dtype}; dimension: {y_train.ndim}\")\n"
   ]
  },
  {
   "cell_type": "markdown",
   "metadata": {},
   "source": [
    "<a name=\"toc_15456_2.2\"></a>\n",
    "#### iv) Parameter vector w, b\n",
    "\n",
    "* $\\mathbf{w}$ is a vector with $n$ elements.\n",
    "  - Each element contains the parameter associated with one feature.\n",
    "  - in our dataset, n is 4.\n",
    "  - notionally, we draw this as a column vector\n",
    "\n",
    "$$\\mathbf{w} = \\begin{pmatrix}\n",
    "w_0 \\\\ \n",
    "w_1 \\\\\n",
    "\\cdots\\\\\n",
    "w_{n-1}\n",
    "\\end{pmatrix}\n",
    "$$\n",
    "* $b$ is a scalar parameter.  "
   ]
  },
  {
   "cell_type": "markdown",
   "metadata": {},
   "source": [
    "\n",
    "For demonstration, $\\mathbf{w}$ and $b$ will be loaded with some initial selected values that are near the optimal. $\\mathbf{w}$ is a 1-D NumPy vector."
   ]
  },
  {
   "cell_type": "code",
   "execution_count": 10,
   "metadata": {},
   "outputs": [
    {
     "name": "stdout",
     "output_type": "stream",
     "text": [
      "w_init shape: (4,), b_init type: <class 'float'>\n"
     ]
    }
   ],
   "source": [
    "b_init = 785.1811367994083\n",
    "w_init = np.array([ 0.39133535, 18.75376741, -53.36032453, -26.42131618])\n",
    "print(f\"w_init shape: {w_init.shape}, b_init type: {type(b_init)}\")"
   ]
  },
  {
   "cell_type": "markdown",
   "metadata": {},
   "source": [
    "#### v) Non-Vectorized Implementation of f(x) having Multiple Variable"
   ]
  },
  {
   "cell_type": "code",
   "execution_count": 22,
   "metadata": {},
   "outputs": [],
   "source": [
    "# Predict Element by Element\n",
    "def predict_elem_by_elem(w, x, b):\n",
    "    \"\"\"\n",
    "    single predict using linear regression\n",
    "    \n",
    "    Args:\n",
    "      x (ndarray): Shape (n,) example with multiple features\n",
    "      w (ndarray): Shape (n,) model parameters    \n",
    "      b (scalar):  model parameter     \n",
    "      \n",
    "    Returns:\n",
    "      f_wb (scalar):  Model prediction\n",
    "    \"\"\"\n",
    "    f_wb = 0\n",
    "    for i in range(x.shape[0]):\n",
    "        f_wb += w[i] * x[i] # Weighted Sum >> w1*x1 + w2*x2 + ...\n",
    "    f_wb = f_wb + b\n",
    "    return f_wb\n",
    "\n",
    "\n"
   ]
  },
  {
   "cell_type": "code",
   "execution_count": 23,
   "metadata": {},
   "outputs": [
    {
     "name": "stdout",
     "output_type": "stream",
     "text": [
      "x_vec: [2104    5    1   45], shape: (4,), type: <class 'numpy.ndarray'>\n",
      "w_init: [  0.39133535  18.75376741 -53.36032453 -26.42131618], shape: (4,), type: <class 'numpy.ndarray'>\n",
      "b_init: 785.1811367994083, type: <class 'float'>\n"
     ]
    }
   ],
   "source": [
    "x_vec = x_train[0,:]\n",
    "print(f\"x_vec: {x_vec}, shape: {x_vec.shape}, type: {type(x_vec)}\")\n",
    "print(f\"w_init: {w_init}, shape: {w_init.shape}, type: {type(w_init)}\")\n",
    "print(f\"b_init: {b_init}, type: {type(b_init)}\")"
   ]
  },
  {
   "cell_type": "code",
   "execution_count": 26,
   "metadata": {},
   "outputs": [
    {
     "name": "stdout",
     "output_type": "stream",
     "text": [
      "w_init:[  0.39133535  18.75376741 -53.36032453 -26.42131618], \n",
      "x_vec:[2104    5    1   45], \n",
      "b_init:785.1811367994083 >> f_wb:459.9999976194083\n"
     ]
    }
   ],
   "source": [
    "f_wb = predict_elem_by_elem(w_init, x_vec, b_init)\n",
    "print(\"w_init:{}, \\nx_vec:{}, \\nb_init:{} >> f_wb:{}\".format(w_init, x_vec, b_init, f_wb))"
   ]
  },
  {
   "cell_type": "markdown",
   "metadata": {},
   "source": [
    "#### vi) Vectorized Implementation of f(x) having Multiple Variable"
   ]
  },
  {
   "cell_type": "code",
   "execution_count": 27,
   "metadata": {},
   "outputs": [],
   "source": [
    "def predict(w, x, b):\n",
    "    f_wb = np.dot(w,x) + b\n",
    "    return f_wb"
   ]
  },
  {
   "cell_type": "code",
   "execution_count": 28,
   "metadata": {},
   "outputs": [
    {
     "name": "stdout",
     "output_type": "stream",
     "text": [
      "w_init:[  0.39133535  18.75376741 -53.36032453 -26.42131618], \n",
      "x_vec:[2104    5    1   45], \n",
      "b_init:785.1811367994083 >> f_wb:459.9999976194083\n"
     ]
    }
   ],
   "source": [
    "f_wb = predict(w_init, x_vec, b_init)\n",
    "print(\"w_init:{}, \\nx_vec:{}, \\nb_init:{} >> f_wb:{}\".format(w_init, x_vec, b_init, f_wb))"
   ]
  },
  {
   "cell_type": "markdown",
   "metadata": {},
   "source": [
    "<a name=\"toc_15456_4\"></a>\n",
    "#### vii) Compute Cost With Multiple Variables\n",
    "The equation for the cost function with multiple variables $J(\\mathbf{w},b)$ is:\n",
    "$$J(\\mathbf{w},b) = \\frac{1}{2m} \\sum\\limits_{i = 0}^{m-1} (f_{\\mathbf{w},b}(\\mathbf{x}^{(i)}) - y^{(i)})^2 \\tag{3}$$ \n",
    "where:\n",
    "$$ f_{\\mathbf{w},b}(\\mathbf{x}^{(i)}) = \\mathbf{w} \\cdot \\mathbf{x}^{(i)} + b  \\tag{4} $$ \n",
    "\n",
    "\n",
    "In contrast to previous labs, $\\mathbf{w}$ and $\\mathbf{x}^{(i)}$ are vectors rather than scalars supporting multiple features.\n",
    "\n",
    "Below is an implementation of equations (3) and (4). Note that this uses a *standard pattern for this course* where a for loop over all `m` examples is used."
   ]
  },
  {
   "cell_type": "code",
   "execution_count": 33,
   "metadata": {},
   "outputs": [],
   "source": [
    "def compute_cost(x, y, w, b):\n",
    "    m = x.shape[0]\n",
    "    cost = 0\n",
    "    for i in range(m):\n",
    "        # f_wb = predict(w,x[i],b)\n",
    "        f_wb = np.dot(w,x[i]) + b\n",
    "        cost += (f_wb - y[i])**2\n",
    "    mse = cost/(2*m)\n",
    "    return mse"
   ]
  },
  {
   "cell_type": "code",
   "execution_count": 34,
   "metadata": {},
   "outputs": [
    {
     "name": "stdout",
     "output_type": "stream",
     "text": [
      "1.5578904428966628e-12\n"
     ]
    }
   ],
   "source": [
    "cost = compute_cost(x_train, y_train, w_init, b_init)\n",
    "print(cost)"
   ]
  },
  {
   "cell_type": "markdown",
   "metadata": {},
   "source": [
    "<a name=\"toc_15456_5\"></a>\n",
    "# 3 Gradient Descent With Multiple Variables\n",
    "Gradient descent for multiple variables:\n",
    "\n",
    "$$\\begin{align*} \\text{repeat}&\\text{ until convergence:} \\; \\lbrace \\newline\\;\n",
    "& w_j = w_j -  \\alpha \\frac{\\partial J(\\mathbf{w},b)}{\\partial w_j} \\tag{5}  \\; & \\text{for j = 0..n-1}\\newline\n",
    "&b\\ \\ = b -  \\alpha \\frac{\\partial J(\\mathbf{w},b)}{\\partial b}  \\newline \\rbrace\n",
    "\\end{align*}$$\n",
    "\n",
    "where, n is the number of features, parameters $w_j$,  $b$, are updated simultaneously and where  \n",
    "\n",
    "$$\n",
    "\\begin{align}\n",
    "\\frac{\\partial J(\\mathbf{w},b)}{\\partial w_j}  &= \\frac{1}{m} \\sum\\limits_{i = 0}^{m-1} (f_{\\mathbf{w},b}(\\mathbf{x}^{(i)}) - y^{(i)})x_{j}^{(i)} \\tag{6}  \\\\\n",
    "\\frac{\\partial J(\\mathbf{w},b)}{\\partial b}  &= \\frac{1}{m} \\sum\\limits_{i = 0}^{m-1} (f_{\\mathbf{w},b}(\\mathbf{x}^{(i)}) - y^{(i)}) \\tag{7}\n",
    "\\end{align}\n",
    "$$\n",
    "* m is the number of training examples in the data set\n",
    "\n",
    "    \n",
    "*  $f_{\\mathbf{w},b}(\\mathbf{x}^{(i)})$ is the model's prediction, while $y^{(i)}$ is the target value\n"
   ]
  },
  {
   "cell_type": "markdown",
   "metadata": {},
   "source": [
    "#### i) Compute Gradient with Multiple Variables (Features)"
   ]
  },
  {
   "cell_type": "code",
   "execution_count": 41,
   "metadata": {},
   "outputs": [],
   "source": [
    "# compute_gradient for multiple variables/features/predictors\n",
    "def compute_gradient(x, y, w, b):\n",
    "\n",
    "    m, n = x.shape           #(number of examples, number of features)\n",
    "    dj_dw = np.zeros((n,))\n",
    "    dj_db = 0\n",
    "\n",
    "    for i in range(m):\n",
    "        f_wb = np.dot(w, x[i]) + b\n",
    "        dj_db += f_wb - y[i]\n",
    "        for j in range(n):\n",
    "            dj_dw[j] += (f_wb - y[i]) * x[i,j] # See Eq. (6) dj_dw[j] >> x[i, j]\n",
    "    \n",
    "    dj_db = dj_db / m\n",
    "    dj_dw = dj_dw / m\n",
    "\n",
    "    return dj_dw, dj_db"
   ]
  },
  {
   "cell_type": "code",
   "execution_count": 42,
   "metadata": {},
   "outputs": [
    {
     "name": "stdout",
     "output_type": "stream",
     "text": [
      "dj_db at initial w,b: -1.6739251501955248e-06\n",
      "dj_dw at initial w,b: \n",
      " [-2.72623577e-03 -6.27197263e-06 -2.21745578e-06 -6.92403391e-05]\n"
     ]
    }
   ],
   "source": [
    "tmp_dj_dw, tmp_dj_db = compute_gradient(x_train, y_train, w_init, b_init)\n",
    "print(f'dj_db at initial w,b: {tmp_dj_db}')\n",
    "print(f'dj_dw at initial w,b: \\n {tmp_dj_dw}')"
   ]
  },
  {
   "cell_type": "markdown",
   "metadata": {},
   "source": [
    "#### ii) Compute Gradient Descent With Multiple Variables (Features)"
   ]
  },
  {
   "cell_type": "code",
   "execution_count": 56,
   "metadata": {},
   "outputs": [],
   "source": [
    "def gradient_descent(x, y, w, b, lr, iterations):\n",
    "    \"\"\"\n",
    "    Performs batch gradient descent to learn w and b. Updates w and b by taking \n",
    "    num_iters gradient steps with learning rate alpha\n",
    "    \n",
    "    Args:\n",
    "      X (ndarray (m,n))   : Data, m examples with n features\n",
    "      y (ndarray (m,))    : target values\n",
    "      w_in (ndarray (n,)) : initial model parameters  \n",
    "      b_in (scalar)       : initial model parameter\n",
    "      lr (float)          : alpha - Learning rate\n",
    "      iterations (int)     : number of iterations to run gradient descent\n",
    "      \n",
    "    Returns:\n",
    "      w (ndarray (n,)) : Updated values of parameters \n",
    "      b (scalar)       : Updated value of parameter \n",
    "    \"\"\"\n",
    "    steps = iterations // 10\n",
    "    j_history, p_history = [], []\n",
    "\n",
    "    for i in range(iterations):\n",
    "        cost = compute_cost(x,y,w,b)\n",
    "        j_history.append(cost)\n",
    "        p_history.append([w,b])\n",
    "\n",
    "        dj_dw, dj_db = compute_gradient(x,y,w,b)\n",
    "        temp_w = w - lr * dj_dw\n",
    "        temp_b = b - lr * dj_db\n",
    "        w, b = temp_w, temp_b\n",
    "        # print(i, end=\",\")\n",
    "        if (i % steps) == 0:\n",
    "            print(f\"iteration: {i}, cost: {cost}, w:{w}, b:{b}\")\n",
    "    return w, b, j_history #return final w,b and J history for graphing"
   ]
  },
  {
   "cell_type": "code",
   "execution_count": 57,
   "metadata": {},
   "outputs": [
    {
     "name": "stdout",
     "output_type": "stream",
     "text": [
      "x_train: [[2104    5    1   45]\n",
      " [1416    3    2   40]\n",
      " [ 852    2    1   35]]; \n",
      "shape: (3, 4), dtype: int32; dimension: 2\n",
      "y_train: [460 232 178]; \n",
      "shape: (3,), dtype: int32; dimension: 1\n",
      "w_init:[0. 0. 0. 0.], \n",
      "b_init:0.0\n",
      "w_init:[0. 0. 0. 0.], \n",
      "b_init:0.0\n"
     ]
    }
   ],
   "source": [
    "print(f\"x_train: {x_train}; \\nshape: {x_train.shape}, dtype: {x_train.dtype}; dimension: {x_train.ndim}\")\n",
    "print(f\"y_train: {y_train}; \\nshape: {y_train.shape}, dtype: {y_train.dtype}; dimension: {y_train.ndim}\")\n",
    "print(\"w_init:{}, \\nb_init:{}\".format(w_init, b_init))\n",
    "\n",
    "w_init = np.zeros_like(w_init)\n",
    "b_init = 0.\n",
    "print(\"w_init:{}, \\nb_init:{}\".format(w_init, b_init))"
   ]
  },
  {
   "cell_type": "code",
   "execution_count": 63,
   "metadata": {},
   "outputs": [
    {
     "name": "stdout",
     "output_type": "stream",
     "text": [
      "iteration: 0, cost: 49518.0, w:[2.41334667e-01 5.58666667e-04 1.83666667e-04 6.03500000e-03], b:0.000145\n",
      "iteration: 100, cost: 696.0010595124644, w:[ 0.20235171  0.00079796 -0.00099658 -0.00219736], b:-0.0001198596187768893\n",
      "iteration: 200, cost: 694.9313476914762, w:[ 0.20253446  0.00112715 -0.00214349 -0.00940619], b:-0.00035965781839536286\n",
      "iteration: 300, cost: 693.8709864577195, w:[ 0.2027164   0.00145611 -0.00328876 -0.01658286], b:-0.0005983240279392168\n",
      "iteration: 400, cost: 692.8198930237817, w:[ 0.20289753  0.00178484 -0.00443238 -0.02372751], b:-0.0008358632706869382\n",
      "iteration: 500, cost: 691.7779853352548, w:[ 0.20307785  0.00211335 -0.00557437 -0.03084027], b:-0.0010722805476294612\n",
      "iteration: 600, cost: 690.7451820642369, w:[ 0.20325736  0.00244162 -0.00671473 -0.0379213 ], b:-0.0013075808375690545\n",
      "iteration: 700, cost: 689.7214026029069, w:[ 0.20343608  0.00276967 -0.00785347 -0.04497072], b:-0.0015417690972177696\n",
      "iteration: 800, cost: 688.706567057147, w:[ 0.20361399  0.00309749 -0.00899059 -0.05198869], b:-0.001774850261295446\n",
      "iteration: 900, cost: 687.7005962402227, w:[ 0.20379112  0.00342509 -0.01012611 -0.05897533], b:-0.0020068292426272975\n",
      "b,w found by gradient descent: -0.00,[ 0.20396569  0.00374919 -0.0112487  -0.0658614 ] \n"
     ]
    }
   ],
   "source": [
    "iterations = 1000\n",
    "# learning_rate = 0.001\n",
    "learning_rate = 5.0e-7\n",
    "\n",
    "# run gradient descent \n",
    "w_final, b_final, J_hist = gradient_descent(x_train, y_train, w_init, b_init, learning_rate, iterations)\n",
    "print(f\"b,w found by gradient descent: {b_final:0.2f},{w_final} \")"
   ]
  },
  {
   "cell_type": "code",
   "execution_count": 64,
   "metadata": {},
   "outputs": [
    {
     "name": "stdout",
     "output_type": "stream",
     "text": [
      "prediction: 426.19, target value: 460\n",
      "prediction: 286.17, target value: 232\n",
      "prediction: 171.47, target value: 178\n"
     ]
    }
   ],
   "source": [
    "m,_ = x_train.shape\n",
    "for i in range(m):\n",
    "    print(f\"prediction: {np.dot(X_train[i], w_final) + b_final:0.2f}, target value: {y_train[i]}\")"
   ]
  },
  {
   "cell_type": "code",
   "execution_count": 65,
   "metadata": {},
   "outputs": [
    {
     "data": {
      "image/png": "[encoded data removed]",
      "text/plain": [
       "<Figure size 864x288 with 2 Axes>"
      ]
     },
     "metadata": {
      "needs_background": "light"
     },
     "output_type": "display_data"
    }
   ],
   "source": [
    "# plot cost versus iteration  \n",
    "fig, (ax1, ax2) = plt.subplots(1, 2, constrained_layout=True, figsize=(12, 4))\n",
    "ax1.plot(J_hist)\n",
    "ax2.plot(100 + np.arange(len(J_hist[100:])), J_hist[100:])\n",
    "ax1.set_title(\"Cost vs. iteration\");  ax2.set_title(\"Cost vs. iteration (tail)\")\n",
    "ax1.set_ylabel('Cost')             ;  ax2.set_ylabel('Cost') \n",
    "ax1.set_xlabel('iteration step')   ;  ax2.set_xlabel('iteration step') \n",
    "plt.show()"
   ]
  },
  {
   "cell_type": "markdown",
   "metadata": {},
   "source": [
    "#### [Go to Home](../)"
   ]
  }
 ],
 "metadata": {
  "kernelspec": {
   "display_name": "Python 3 (ipykernel)",
   "language": "python",
   "name": "python3"
  },
  "language_info": {
   "codemirror_mode": {
    "name": "ipython",
    "version": 3
   },
   "file_extension": ".py",
   "mimetype": "text/x-python",
   "name": "python",
   "nbconvert_exporter": "python",
   "pygments_lexer": "ipython3",
   "version": "3.9.7"
  },
  "vscode": {
   "interpreter": {
    "hash": "b1e6b76b6e736d29445d5c5f779c1dafb0f59893c5766b7198bc0a87a8e7acf4"
   }
  }
 },
 "nbformat": 4,
 "nbformat_minor": 2
}
